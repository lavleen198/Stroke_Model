{
  "nbformat": 4,
  "nbformat_minor": 0,
  "metadata": {
    "colab": {
      "name": "Copy of Logistics_regression.ipynb",
      "provenance": [],
      "collapsed_sections": [],
      "toc_visible": true,
      "include_colab_link": true
    },
    "kernelspec": {
      "name": "python3",
      "display_name": "Python 3"
    }
  },
  "cells": [
    {
      "cell_type": "markdown",
      "metadata": {
        "id": "view-in-github",
        "colab_type": "text"
      },
      "source": [
        "<a href=\"https://colab.research.google.com/github/lavleen198/Stroke_Model/blob/main/Copy_of_Classification.ipynb\" target=\"_parent\"><img src=\"https://colab.research.google.com/assets/colab-badge.svg\" alt=\"Open In Colab\"/></a>"
      ]
    },
    {
      "cell_type": "markdown",
      "metadata": {
        "id": "37puETfgRzzg"
      },
      "source": [
        "# Data Preprocessing Tools"
      ]
    },
    {
      "cell_type": "markdown",
      "metadata": {
        "id": "EoRP98MpR-qj"
      },
      "source": [
        "## Importing the libraries"
      ]
    },
    {
      "cell_type": "code",
      "metadata": {
        "id": "N-qiINBQSK2g"
      },
      "source": [
        "import numpy as np\n",
        "import matplotlib.pyplot as plt\n",
        "import pandas as pd"
      ],
      "execution_count": null,
      "outputs": []
    },
    {
      "cell_type": "markdown",
      "metadata": {
        "id": "RopL7tUZSQkT"
      },
      "source": [
        "## Importing the dataset"
      ]
    },
    {
      "cell_type": "code",
      "metadata": {
        "id": "OHtEy9WcaU3m"
      },
      "source": [
        "dataset=pd.read_csv('diabetes.csv')\n",
        "x=dataset.iloc[:, :-1].values\n",
        "y=dataset.iloc[:, -1].values"
      ],
      "execution_count": null,
      "outputs": []
    },
    {
      "cell_type": "markdown",
      "metadata": {
        "id": "qb_vcgm3qZKW"
      },
      "source": [
        "## Splitting the dataset into the Training set and Test set"
      ]
    },
    {
      "cell_type": "code",
      "metadata": {
        "id": "mhWUoy04fyCb"
      },
      "source": [
        "from sklearn.model_selection import train_test_split\n",
        "x_train,x_test,y_train,y_test=train_test_split(x,y,test_size=0.2,random_state=0)"
      ],
      "execution_count": null,
      "outputs": []
    },
    {
      "cell_type": "markdown",
      "metadata": {
        "id": "TpGqbS4TqkIR"
      },
      "source": [
        "## Feature Scaling"
      ]
    },
    {
      "cell_type": "code",
      "metadata": {
        "id": "M-Mag78Pqoc2"
      },
      "source": [
        "from sklearn.preprocessing import StandardScaler\n",
        "sc=StandardScaler()\n",
        "x_train=sc.fit_transform(x_train)\n",
        "x_test=sc.transform(x_test)"
      ],
      "execution_count": null,
      "outputs": []
    },
    {
      "cell_type": "markdown",
      "metadata": {
        "id": "4fT8v_mIBL4M"
      },
      "source": [
        "Training The Logistics Regression Model On Training Set"
      ]
    },
    {
      "cell_type": "code",
      "metadata": {
        "colab": {
          "base_uri": "https://localhost:8080/"
        },
        "id": "9iZldK5CBcfH",
        "outputId": "248e7847-da58-403f-f926-4046b4094969"
      },
      "source": [
        "from sklearn.linear_model import LogisticRegression\n",
        "classifier=LogisticRegression()\n",
        "classifier.fit(x_train,y_train)"
      ],
      "execution_count": null,
      "outputs": [
        {
          "output_type": "execute_result",
          "data": {
            "text/plain": [
              "LogisticRegression(C=1.0, class_weight=None, dual=False, fit_intercept=True,\n",
              "                   intercept_scaling=1, l1_ratio=None, max_iter=100,\n",
              "                   multi_class='auto', n_jobs=None, penalty='l2',\n",
              "                   random_state=None, solver='lbfgs', tol=0.0001, verbose=0,\n",
              "                   warm_start=False)"
            ]
          },
          "metadata": {
            "tags": []
          },
          "execution_count": 133
        }
      ]
    },
    {
      "cell_type": "markdown",
      "metadata": {
        "id": "ncZN6WO5wgud"
      },
      "source": [
        "Training The K-NN Model On The Training Set"
      ]
    },
    {
      "cell_type": "code",
      "metadata": {
        "colab": {
          "base_uri": "https://localhost:8080/"
        },
        "id": "oIcCQ-SAwwMd",
        "outputId": "107c2f89-a4a6-4df6-821e-c2502ec9073d"
      },
      "source": [
        "from sklearn.neighbors import KNeighborsClassifier\n",
        "kclassifier=KNeighborsClassifier(n_neighbors=5)\n",
        "kclassifier.fit(x_train,y_train)"
      ],
      "execution_count": null,
      "outputs": [
        {
          "output_type": "execute_result",
          "data": {
            "text/plain": [
              "KNeighborsClassifier(algorithm='auto', leaf_size=30, metric='minkowski',\n",
              "                     metric_params=None, n_jobs=None, n_neighbors=5, p=2,\n",
              "                     weights='uniform')"
            ]
          },
          "metadata": {
            "tags": []
          },
          "execution_count": 134
        }
      ]
    },
    {
      "cell_type": "markdown",
      "metadata": {
        "id": "gyWUdWtMAxjw"
      },
      "source": [
        "Training The SVM Model On The Training Set"
      ]
    },
    {
      "cell_type": "code",
      "metadata": {
        "colab": {
          "base_uri": "https://localhost:8080/"
        },
        "id": "hcJKuR71A6O6",
        "outputId": "63a1e970-8baf-49ea-920e-b499d5d77673"
      },
      "source": [
        "from sklearn.svm import SVC\n",
        "svm_classifier=SVC(kernel='linear')\n",
        "svm_classifier.fit(x_train,y_train)"
      ],
      "execution_count": null,
      "outputs": [
        {
          "output_type": "execute_result",
          "data": {
            "text/plain": [
              "SVC(C=1.0, break_ties=False, cache_size=200, class_weight=None, coef0=0.0,\n",
              "    decision_function_shape='ovr', degree=3, gamma='scale', kernel='linear',\n",
              "    max_iter=-1, probability=False, random_state=None, shrinking=True,\n",
              "    tol=0.001, verbose=False)"
            ]
          },
          "metadata": {
            "tags": []
          },
          "execution_count": 135
        }
      ]
    },
    {
      "cell_type": "markdown",
      "metadata": {
        "id": "jpygdqA_G-pt"
      },
      "source": [
        ""
      ]
    },
    {
      "cell_type": "markdown",
      "metadata": {
        "id": "hUY33wstHBkq"
      },
      "source": [
        "Training The Decision Tree Classifier On The Training Set"
      ]
    },
    {
      "cell_type": "code",
      "metadata": {
        "colab": {
          "base_uri": "https://localhost:8080/"
        },
        "id": "OfxCgxrRHKSP",
        "outputId": "6929329f-24b5-4286-8fe5-e86ee61b17f8"
      },
      "source": [
        "from sklearn.tree import DecisionTreeClassifier\n",
        "DTC_classifier=DecisionTreeClassifier(criterion='entropy')\n",
        "DTC_classifier.fit(x_train,y_train)"
      ],
      "execution_count": null,
      "outputs": [
        {
          "output_type": "execute_result",
          "data": {
            "text/plain": [
              "DecisionTreeClassifier(ccp_alpha=0.0, class_weight=None, criterion='entropy',\n",
              "                       max_depth=None, max_features=None, max_leaf_nodes=None,\n",
              "                       min_impurity_decrease=0.0, min_impurity_split=None,\n",
              "                       min_samples_leaf=1, min_samples_split=2,\n",
              "                       min_weight_fraction_leaf=0.0, presort='deprecated',\n",
              "                       random_state=None, splitter='best')"
            ]
          },
          "metadata": {
            "tags": []
          },
          "execution_count": 136
        }
      ]
    },
    {
      "cell_type": "markdown",
      "metadata": {
        "id": "UtAOgu27OEoj"
      },
      "source": [
        "Training The Random Forest Decision Classifier On The Traning Set"
      ]
    },
    {
      "cell_type": "code",
      "metadata": {
        "colab": {
          "base_uri": "https://localhost:8080/"
        },
        "id": "xX5RGnLPOPrb",
        "outputId": "3f89a3fa-ddd2-48db-8635-ef444f1502ee"
      },
      "source": [
        "from sklearn.ensemble import RandomForestClassifier\n",
        "RFC_classifier = RandomForestClassifier(n_estimators = 10, criterion = 'entropy', random_state = 0)\n",
        "RFC_classifier.fit(x_train, y_train)"
      ],
      "execution_count": null,
      "outputs": [
        {
          "output_type": "execute_result",
          "data": {
            "text/plain": [
              "RandomForestClassifier(bootstrap=True, ccp_alpha=0.0, class_weight=None,\n",
              "                       criterion='entropy', max_depth=None, max_features='auto',\n",
              "                       max_leaf_nodes=None, max_samples=None,\n",
              "                       min_impurity_decrease=0.0, min_impurity_split=None,\n",
              "                       min_samples_leaf=1, min_samples_split=2,\n",
              "                       min_weight_fraction_leaf=0.0, n_estimators=10,\n",
              "                       n_jobs=None, oob_score=False, random_state=0, verbose=0,\n",
              "                       warm_start=False)"
            ]
          },
          "metadata": {
            "tags": []
          },
          "execution_count": 137
        }
      ]
    },
    {
      "cell_type": "markdown",
      "metadata": {
        "id": "LFr8wdEsb0EQ"
      },
      "source": [
        "Training The Naive Bayes classifier On The Traning Set"
      ]
    },
    {
      "cell_type": "code",
      "metadata": {
        "colab": {
          "base_uri": "https://localhost:8080/"
        },
        "id": "ef1ROdeCcBt-",
        "outputId": "1d0b459a-1b6d-4248-8ba0-b2aa53c66625"
      },
      "source": [
        "from sklearn.naive_bayes import GaussianNB\n",
        "NB_classifier = GaussianNB()\n",
        "NB_classifier.fit(x_train, y_train)"
      ],
      "execution_count": null,
      "outputs": [
        {
          "output_type": "execute_result",
          "data": {
            "text/plain": [
              "GaussianNB(priors=None, var_smoothing=1e-09)"
            ]
          },
          "metadata": {
            "tags": []
          },
          "execution_count": 138
        }
      ]
    },
    {
      "cell_type": "markdown",
      "metadata": {
        "id": "Ej9-_f2-FyQo"
      },
      "source": [
        "Predicting The New Result\n"
      ]
    },
    {
      "cell_type": "code",
      "metadata": {
        "id": "GP09OzlFGC81",
        "colab": {
          "base_uri": "https://localhost:8080/"
        },
        "outputId": "4d94e69a-e3a3-48a1-82fa-00eb4a5c2de6"
      },
      "source": [
        "print(classifier.predict(sc.transform([[6,148,72,35,0,33.6,0.627,50]])))\n",
        "print(kclassifier.predict(sc.transform([[6,148,72,35,0,33.6,0.627,50]])))\n",
        "print(svm_classifier.predict(sc.transform([[6,148,72,35,0,33.6,0.627,50]])))\n",
        "print(DTC_classifier.predict(sc.transform([[6,148,72,35,0,33.6,0.627,50]])))\n",
        "print(RFC_classifier.predict(sc.transform([[6,148,72,35,0,33.6,0.627,50]])))\n",
        "print(NB_classifier.predict(sc.transform([[6,148,72,35,0,33.6,0.627,50]])))\n"
      ],
      "execution_count": null,
      "outputs": [
        {
          "output_type": "stream",
          "text": [
            "[1]\n",
            "[1]\n",
            "[1]\n",
            "[1]\n",
            "[1]\n",
            "[1]\n"
          ],
          "name": "stdout"
        }
      ]
    },
    {
      "cell_type": "markdown",
      "metadata": {
        "id": "UGJdP9BkIL6_"
      },
      "source": [
        "Predicting The Test Set Result\n"
      ]
    },
    {
      "cell_type": "code",
      "metadata": {
        "id": "m55xu40IISz-"
      },
      "source": [
        "y_pred=[]\n",
        "y_pred1 = classifier.predict(x_test)\n",
        "y_pred2 = kclassifier.predict(x_test)\n",
        "y_pred3 = svm_classifier.predict(x_test)\n",
        "y_pred4 = DTC_classifier.predict(x_test)\n",
        "y_pred5 = NB_classifier.predict(x_test)\n",
        "for i in range(len(y_pred1)):\n",
        "  if (y_pred1[i]+y_pred2[i]+y_pred3[i]+y_pred4[i]+y_pred5[i])>2:\n",
        "    y_pred.append(1)\n",
        "  else:\n",
        "    y_pred.append(0)\n",
        "vector_row = np.array(y_pred)\n",
        "print(np.concatenate((vector_row.reshape(len(vector_row),1), y_test.reshape(len(y_test),1)),1))"
      ],
      "execution_count": null,
      "outputs": []
    },
    {
      "cell_type": "markdown",
      "metadata": {
        "id": "a5FJ6bsBLZE-"
      },
      "source": [
        "Making The Confusion Matrix"
      ]
    },
    {
      "cell_type": "code",
      "metadata": {
        "colab": {
          "base_uri": "https://localhost:8080/"
        },
        "id": "A2A6oVzmLfkM",
        "outputId": "2d984da5-a07b-490e-fdef-8dac658c028d"
      },
      "source": [
        "from sklearn.metrics import confusion_matrix,accuracy_score\n",
        "cm=confusion_matrix(y_test,vector_row)\n",
        "print(cm)\n",
        "accuracy_score(y_test, vector_row)"
      ],
      "execution_count": null,
      "outputs": [
        {
          "output_type": "stream",
          "text": [
            "[[97 10]\n",
            " [18 29]]\n"
          ],
          "name": "stdout"
        },
        {
          "output_type": "execute_result",
          "data": {
            "text/plain": [
              "0.8181818181818182"
            ]
          },
          "metadata": {
            "tags": []
          },
          "execution_count": 141
        }
      ]
    },
    {
      "cell_type": "markdown",
      "metadata": {
        "id": "S1h1z8Qt4X0W"
      },
      "source": [
        "Saving Your Model"
      ]
    },
    {
      "cell_type": "code",
      "metadata": {
        "id": "jQQL36dG4bWj",
        "colab": {
          "base_uri": "https://localhost:8080/"
        },
        "outputId": "91ffd582-24a5-45e2-bfbc-a6a67093377c"
      },
      "source": [
        "import joblib\n",
        "joblib.dump(NB_classifier,'diabetesmodel_NB.pkl')"
      ],
      "execution_count": null,
      "outputs": [
        {
          "output_type": "execute_result",
          "data": {
            "text/plain": [
              "['diabetesmodel_NB.pkl']"
            ]
          },
          "metadata": {
            "tags": []
          },
          "execution_count": 142
        }
      ]
    }
  ]
}